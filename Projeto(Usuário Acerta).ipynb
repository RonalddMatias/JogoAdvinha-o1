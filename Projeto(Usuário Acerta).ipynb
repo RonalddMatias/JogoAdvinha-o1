{
  "nbformat": 4,
  "nbformat_minor": 0,
  "metadata": {
    "colab": {
      "name": "Project.ipynb",
      "provenance": [],
      "authorship_tag": "ABX9TyOy/MxquJs+xTAUm4zghkcN",
      "include_colab_link": true
    },
    "kernelspec": {
      "name": "python3",
      "display_name": "Python 3"
    },
    "language_info": {
      "name": "python"
    }
  },
  "cells": [
    {
      "cell_type": "markdown",
      "metadata": {
        "id": "view-in-github",
        "colab_type": "text"
      },
      "source": [
        "<a href=\"https://colab.research.google.com/github/RonalddMatias/JogoAdvinha-o1/blob/main/Projeto(Usu%C3%A1rio%20Acerta).ipynb\" target=\"_parent\"><img src=\"https://colab.research.google.com/assets/colab-badge.svg\" alt=\"Open In Colab\"/></a>"
      ]
    },
    {
      "cell_type": "code",
      "source": [
        "# Jogo de advinhação\n",
        "import random #geração de números aleatórios\n",
        "\n",
        "#Constantes\n",
        "num_inicial = 1\n",
        "num_final = 20\n",
        "num_tentativas = 5\n",
        "\n",
        "play = True \n",
        "\n",
        "#Enquanto a variável for True, o loop continuará a ser executado.\n",
        "while play:\n",
        "  numero_secreto = random.randint(num_inicial, num_final) \n",
        "  print('===Jogo de Advinhação===')\n",
        "  print('Estou pensando em um número  ' + str(num_inicial) + ' a ' + str(num_final) + '.')\n",
        "  print('Você tem  ' + str(num_tentativas) + ' tentativas. Boa Sorte!')\n",
        "  print('========================')\n",
        "  print()\n",
        "\n",
        "#Perguntar ao jogador para advinhar o número em num_tentativas\n",
        "\n",
        "  for tentativa in range(1, num_tentativas + 1):\n",
        "    print('tentativa número ' + str(tentativa))\n",
        "    print('Digite um número: ')\n",
        "    numero = int(input())\n",
        "    print()\n",
        "\n",
        "  #Testar se o número está acima ou abaixo do número secreto e mostrar ao usuário.\n",
        "    if numero < numero_secreto:\n",
        "      print(' O número digitado está abaixo do número secreto ')\n",
        "    elif numero > numero_secreto:\n",
        "      print('O número digitado está acima do número secreto.')\n",
        "    else:\n",
        "      break # Essa condição vai prar o loop do FOR se o usuário acertar o número.\n",
        "\n",
        "#Fora do FOR LOOP para ver se o usuário acertou ou errou\n",
        "  if numero == numero_secreto:\n",
        "    print('Parabéns, você acertou em ' + str(tentativa) + ' tentativas')\n",
        "  else:\n",
        "    print(' Não foi dessa vez. O número secreto era ' + str(numero_secreto) + '.')\n",
        "\n",
        "#Perguntar ao usuário de ele deseja jogar novamente\n",
        "  print()\n",
        "  print('Quer Jogar Novamente? (Digite S para sim, n para não)')\n",
        "  play = True if input().lower() == 's' else False\n",
        "\n",
        "# Despedida do game\n",
        "print()\n",
        "print('até a próxima')\n",
        "print('=========================')"
      ],
      "metadata": {
        "colab": {
          "base_uri": "https://localhost:8080/"
        },
        "id": "13p2SmqhEK-G",
        "outputId": "2f1bf5aa-d567-40c8-b40d-0105e2a8e032"
      },
      "execution_count": null,
      "outputs": [
        {
          "metadata": {
            "tags": null
          },
          "name": "stdout",
          "output_type": "stream",
          "text": [
            "===Jogo de Advinhação===\n",
            "Estou pensando em um número  1 a 20.\n",
            "Você tem  5 tentativas. Boa Sorte!\n",
            "========================\n",
            "\n",
            "tentativa número 1\n",
            "Digite um número: \n",
            "\n",
            "O número digitado está acima do número secreto.\n",
            "tentativa número 2\n",
            "Digite um número: \n",
            "\n",
            "O número digitado está acima do número secreto.\n",
            "tentativa número 3\n",
            "Digite um número: \n",
            "\n",
            " O número digitado está abaixo do número secreto \n",
            "tentativa número 4\n",
            "Digite um número: \n",
            "\n",
            "Parabéns, você acertou em 4 tentativas\n",
            "\n",
            "Quer Jogar Novamente? (Digite S para sim, n para não)\n"
          ]
        }
      ]
    }
  ]
}